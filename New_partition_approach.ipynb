{
  "nbformat": 4,
  "nbformat_minor": 0,
  "metadata": {
    "colab": {
      "provenance": []
    },
    "kernelspec": {
      "name": "python3",
      "display_name": "Python 3"
    },
    "language_info": {
      "name": "python"
    }
  },
  "cells": [
    {
      "cell_type": "markdown",
      "source": [
        "###This is the dynamic programming approach to find answer to partition problem, which has a time complexity of O(n * s) where n is number of elements and s is total sum divided by 2."
      ],
      "metadata": {
        "id": "L-KSOj8R94wP"
      }
    },
    {
      "cell_type": "code",
      "execution_count": null,
      "metadata": {
        "id": "h1RQPoGy91s0"
      },
      "outputs": [],
      "source": [
        "import random\n",
        "\n",
        "def canPartition(nums):\n",
        "    total_sum = sum(nums)\n",
        "    # If total_sum is odd, it cannot be partitioned into two equal subsets\n",
        "    if total_sum % 2 != 0:\n",
        "        return False\n",
        "    target = total_sum // 2\n",
        "    n = len(nums)\n",
        "    dp = [[False] * (target + 1) for _ in range(n + 1)]\n",
        "\n",
        "    # Initialize\n",
        "    for i in range(n + 1):\n",
        "        dp[i][0] = True\n",
        "\n",
        "    # Fill the DP table\n",
        "    for i in range(1, n + 1):\n",
        "        for j in range(1, target + 1):\n",
        "            if j < nums[i-1]:\n",
        "                dp[i][j] = dp[i-1][j]\n",
        "            else:\n",
        "                dp[i][j] = dp[i-1][j] or dp[i-1][j-nums[i-1]]\n",
        "\n",
        "    return dp[n][target]\n",
        "\n",
        "# Generate a list of random integers between 1 and 10000\n",
        "nums = random.sample(range(74, 10001), 101)\n",
        "print(canPartition(nums))"
      ]
    },
    {
      "cell_type": "markdown",
      "source": [
        "###This is my approach."
      ],
      "metadata": {
        "id": "d0Lrog1h_GWP"
      }
    },
    {
      "cell_type": "code",
      "source": [
        "def find_min_difference_partition_point_with_adjustment(arr):\n",
        "    def subset_sum(arr, T):\n",
        "        # If T is False, it means the previous conditions failed\n",
        "        if T is False:\n",
        "            return False\n",
        "\n",
        "        n = len(arr)  # Use the length of the sorted arr directly\n",
        "        if n == 0:  # If there are no elements, return False\n",
        "            return False\n",
        "        table = [[False] * (T + 1) for _ in range(n + 1)]\n",
        "        table[0][0] = True\n",
        "\n",
        "        for i in range(1, n + 1):\n",
        "            for j in range(1, T + 1):\n",
        "                if j < arr[i-1]:\n",
        "                    table[i][j] = table[i-1][j]\n",
        "                else:\n",
        "                    table[i][j] = table[i-1][j] or table[i-1][j-arr[i-1]]\n",
        "\n",
        "        return table[n][T]\n",
        "\n",
        "    # Initial condition checks\n",
        "    if len(arr) == 0 or sum(arr) % 2 != 0 or (len(arr) == 2 and arr[0] != arr[1]) or max(arr) > sum(arr) - max(arr):\n",
        "        return False  # Return False immediately based on the conditions\n",
        "\n",
        "    arr = sorted(arr)\n",
        "    total_sum = sum(arr)\n",
        "    sum_first_part = 0\n",
        "    min_difference = float('inf')\n",
        "    partition_index = -1  # Initialize with an invalid index\n",
        "    sums_at_min_diff = (0, 0)  # To store sums of the two parts at min difference\n",
        "\n",
        "    for i, num in enumerate(arr):\n",
        "        sum_first_part += num\n",
        "        sum_second_part = total_sum - sum_first_part\n",
        "        current_difference = abs(sum_first_part - sum_second_part)\n",
        "\n",
        "        if current_difference < min_difference:\n",
        "            min_difference = current_difference\n",
        "            partition_index = i\n",
        "            sums_at_min_diff = (sum_first_part, sum_second_part)\n",
        "\n",
        "    # Additional condition to prevent whole array selection\n",
        "    if partition_index == len(arr) - 1:\n",
        "        partition_index -= 1  # Move back one position to prevent selecting the whole array\n",
        "\n",
        "    # Check the specific condition before making adjustments\n",
        "    if sums_at_min_diff[0] < sums_at_min_diff[1] and partition_index + 1 < len(arr):\n",
        "        partition_index += 1  # Adjust the partition index if necessary\n",
        "        sum_first_part = sum(arr[:partition_index + 1])\n",
        "        sum_second_part = total_sum - sum_first_part\n",
        "        min_difference = abs(sum_first_part - sum_second_part)  # Recalculate the minimum difference\n",
        "\n",
        "    # Call subset_sum with the sorted array and min_difference as the target\n",
        "    subset_sum_result = subset_sum(arr, min_difference)\n",
        "\n",
        "    return subset_sum_result\n",
        "\n",
        "\n",
        "# Usage example\n",
        "arr = nums  # Example array\n",
        "result = find_min_difference_partition_point_with_adjustment(arr)\n",
        "result"
      ],
      "metadata": {
        "id": "_x-jqPMM_bec"
      },
      "execution_count": null,
      "outputs": []
    },
    {
      "cell_type": "code",
      "source": [],
      "metadata": {
        "id": "Bg9AEuEXAxwM"
      },
      "execution_count": null,
      "outputs": []
    }
  ]
}